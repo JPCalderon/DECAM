{
 "cells": [
  {
   "cell_type": "markdown",
   "id": "a01c5c24-871b-4e52-ba2e-300e3ecccb84",
   "metadata": {},
   "source": [
    "# Unir cada capa de una imagen fits"
   ]
  },
  {
   "cell_type": "markdown",
   "id": "101538ab-7fa6-4def-874b-ff09095d6168",
   "metadata": {},
   "source": [
    "Las imagenes fits de la DECAM estan 'cortadas' en 9 capas, cada filtro. Para generar una unica capa por filtro, se unifica cada imagen utilizando la información del WCS de cada capa."
   ]
  },
  {
   "cell_type": "code",
   "execution_count": 80,
   "id": "9291b229-6cce-473f-b78a-30d258a8d121",
   "metadata": {},
   "outputs": [],
   "source": [
    "from reproject.mosaicking import find_optimal_celestial_wcs\n",
    "from reproject.mosaicking import reproject_and_coadd\n",
    "from reproject import reproject_interp, reproject_exact\n",
    "\n",
    "from astropy.io import fits\n",
    "import numpy as np"
   ]
  },
  {
   "cell_type": "code",
   "execution_count": 2,
   "id": "9b9321f9-b8cb-49ad-969a-13e15f408684",
   "metadata": {},
   "outputs": [
    {
     "name": "stdout",
     "output_type": "stream",
     "text": [
      "[*] processing filter: g\n",
      "[*] Writing file: /home/jpcalderon/2022/Antlia/data/2020+2021/Valdes/mosaic/antlia0g.fits\n",
      "[*] Done!\n",
      "\n",
      "[*] processing filter: r\n",
      "[*] Writing file: /home/jpcalderon/2022/Antlia/data/2020+2021/Valdes/mosaic/antlia0r.fits\n",
      "[*] Done!\n",
      "\n",
      "[*] processing filter: i\n",
      "[*] Writing file: /home/jpcalderon/2022/Antlia/data/2020+2021/Valdes/mosaic/antlia0i.fits\n",
      "[*] Done!\n",
      "\n",
      "[*] processing filter: z\n",
      "[*] Writing file: /home/jpcalderon/2022/Antlia/data/2020+2021/Valdes/mosaic/antlia0z.fits\n",
      "[*] Done!\n",
      "\n"
     ]
    }
   ],
   "source": [
    "home = '/home/jpcalderon/'\n",
    "fitsdir = home + '2022/Antlia/data/2020+2021/Valdes/'\n",
    "output_dir = home + '2022/Antlia/sextractor/output/chances/'\n",
    "\n",
    "type = 'osi'\n",
    "for filter in [ 'g', 'r', 'i', 'z' ]:\n",
    "    print ( \"[*] Processing filter: \" + filter )\n",
    "    img = fitsdir + 'antlia0' + filter + '-' + type + '.fits.fz' \n",
    "    images =  [ fits.open(img)[j] for j in range(1, 10) ]\n",
    "    \n",
    "    wcs_out, shape_out = find_optimal_celestial_wcs ( images )\n",
    "    array, footprint = reproject_and_coadd ( images,\n",
    "                                       wcs_out, shape_out = shape_out,\n",
    "                                       reproject_function = reproject_interp ) # reproject_exact )\n",
    "    file = fitsdir + 'mosaic/antlia0' + filter + '.fits'\n",
    "    print ( \"[*] Writing file: \" + file )\n",
    "    fits.writeto ( file, array, wcs_out.to_header(), overwrite = True )\n",
    "    print ( \"[*] Done!\\n\" )"
   ]
  }
 ],
 "metadata": {
  "kernelspec": {
   "display_name": "Python 3 (ipykernel)",
   "language": "python",
   "name": "python3"
  },
  "language_info": {
   "codemirror_mode": {
    "name": "ipython",
    "version": 3
   },
   "file_extension": ".py",
   "mimetype": "text/x-python",
   "name": "python",
   "nbconvert_exporter": "python",
   "pygments_lexer": "ipython3",
   "version": "3.7.12"
  }
 },
 "nbformat": 4,
 "nbformat_minor": 5
}
